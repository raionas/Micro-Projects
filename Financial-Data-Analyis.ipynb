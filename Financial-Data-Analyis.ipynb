{
 "cells": [
  {
   "cell_type": "markdown",
   "metadata": {},
   "source": [
    "# Financial Data Analysis\n",
    "Source: Udemy: Super Data Science \n",
    "Course: Python Programming A-Z\n",
    "Description: dataset was provided by Super Data Science"
   ]
  },
  {
   "cell_type": "code",
   "execution_count": 1,
   "metadata": {},
   "outputs": [],
   "source": [
    "# Scenario\n",
    "# Scenario:You are a Data Scientist working for a consulting firm. One of your colleagues from the Auditing department has asked you to help them assess the financial statement of organisation X.\n",
    "# You have been supplied with two vectors of data: monthly revenue and monthly expenses for the financial year in question.Your task is to calculate the following financial metrics:\n",
    "# - profit for each month\n",
    "# - profit after tax for each month (the tax rate is 30%)\n",
    "# - profit margin for each month - equals to profit after tax divided by revenue\n",
    "# - good months - where the profit after tax was greater than the mean for the year - bad months - where the profit after tax was less than the mean for the year\n",
    "# - the best month - where the profit after tax was max for the year\n",
    "# - the worst month - where the profit after tax was min for the year"
   ]
  },
  {
   "cell_type": "markdown",
   "metadata": {},
   "source": [
    "---"
   ]
  },
  {
   "cell_type": "code",
   "execution_count": 119,
   "metadata": {},
   "outputs": [],
   "source": [
    "#Data \n",
    "months = [1, 2, 3, 4, 5, 6, 7, 8, 9, 10, 11, 12] # included dates to map figures to acutal months\n",
    "revenue = [14574.49, 7606.46, 8611.41, 9175.41, 8058.65, 8105.44, 11496.28, 9766.09, 10305.32, 14379.96, 10713.97, 15433.50]\n",
    "expenses = [12051.82, 5695.07, 12319.20, 12089.72, 8658.57, 840.20, 3285.73, 5821.12, 6976.93, 16618.61, 10054.37, 3803.96]"
   ]
  },
  {
   "cell_type": "code",
   "execution_count": 120,
   "metadata": {},
   "outputs": [],
   "source": [
    "import numpy as np\n",
    "import pandas as pd"
   ]
  },
  {
   "cell_type": "code",
   "execution_count": 121,
   "metadata": {},
   "outputs": [],
   "source": [
    "# create array for months\n",
    "mo = np.array(months)"
   ]
  },
  {
   "cell_type": "code",
   "execution_count": 122,
   "metadata": {},
   "outputs": [],
   "source": [
    "#  create array for revenue\n",
    "r = np.array(revenue)"
   ]
  },
  {
   "cell_type": "code",
   "execution_count": 123,
   "metadata": {},
   "outputs": [],
   "source": [
    "# create array for expenses\n",
    "e = np.array(expenses)"
   ]
  },
  {
   "cell_type": "code",
   "execution_count": 124,
   "metadata": {},
   "outputs": [],
   "source": [
    "# Profit\n",
    "p = np.array(np.subtract(r,e))"
   ]
  },
  {
   "cell_type": "code",
   "execution_count": 125,
   "metadata": {},
   "outputs": [],
   "source": [
    "# Monthly Profit after tax 30% using list comprehension\n",
    "#mp = [profit - (profit * 0.3) for profit in profit]\n",
    "mp = np.array([p - (p * 0.3) for p in p])"
   ]
  },
  {
   "cell_type": "code",
   "execution_count": 126,
   "metadata": {},
   "outputs": [],
   "source": [
    "# Profit Margin \n",
    "# monthly profit / revenue\n",
    "pm = np.array([np.around(mp/r,2) * 100])"
   ]
  },
  {
   "cell_type": "code",
   "execution_count": 127,
   "metadata": {},
   "outputs": [],
   "source": [
    "# Good Months\n",
    "# m (mean), gm= good months\n",
    "m = np.mean(mp)"
   ]
  },
  {
   "cell_type": "code",
   "execution_count": 128,
   "metadata": {},
   "outputs": [],
   "source": [
    "gm = [gm > m for gm in mp]"
   ]
  },
  {
   "cell_type": "code",
   "execution_count": 129,
   "metadata": {},
   "outputs": [],
   "source": [
    "# Bad Months\n",
    "# bm = bad months\n",
    "bm = [bm < m for bm in mp]"
   ]
  },
  {
   "cell_type": "code",
   "execution_count": 130,
   "metadata": {},
   "outputs": [],
   "source": [
    "# Best Month\n",
    "# bmmax = best month maximum\n",
    "# bestm = best month\n",
    "bmmax = max(mp)\n",
    "bestm = [mp == bmmax for i in mp]"
   ]
  },
  {
   "cell_type": "code",
   "execution_count": 131,
   "metadata": {},
   "outputs": [],
   "source": [
    "# Worst Month\n",
    "# wmmin = worst month minimum\n",
    "# worstm = worst month\n",
    "wmmin = min(mp)\n",
    "worstm = [mp == wmmin for wmmin in mp]"
   ]
  },
  {
   "cell_type": "code",
   "execution_count": 132,
   "metadata": {},
   "outputs": [],
   "source": [
    "# Convert calculations to thousand dollars\n",
    "#pd.set_option('Precision',0)\n",
    "r1000 = [np.around(r/1000, decimals=2) for r in r]\n",
    "e1000 = [np.round(e/1000,2) for e in e]\n",
    "p1000 = [np.around(p/1000, decimals=2) for p in p]\n",
    "mp1000 = [np.around(mp, decimals=2) for mp in mp]"
   ]
  },
  {
   "cell_type": "code",
   "execution_count": 133,
   "metadata": {
    "scrolled": true
   },
   "outputs": [],
   "source": [
    "r1000 = [np.int(r) for r in r]\n",
    "e1000 = [np.int(e) for e in e]\n",
    "p1000 = [np.int(p) for p in p]\n",
    "mp1000 = [np.int(mp) for mp in mp]"
   ]
  },
  {
   "cell_type": "code",
   "execution_count": 134,
   "metadata": {},
   "outputs": [
    {
     "name": "stdout",
     "output_type": "stream",
     "text": [
      "Revenue:\n",
      "[14574, 7606, 8611, 9175, 8058, 8105, 11496, 9766, 10305, 14379, 10713, 15433]\n",
      "Expenses:\n",
      "[12051, 5695, 12319, 12089, 8658, 840, 3285, 5821, 6976, 16618, 10054, 3803]\n",
      "Profit:\n",
      "[2522, 1911, -3707, -2914, -599, 7265, 8210, 3944, 3328, -2238, 659, 11629]\n",
      "Profit after tax:\n",
      "[1765, 1337, -2595, -2040, -419, 5085, 5747, 2761, 2329, -1567, 461, 8140]\n",
      "Profit margin:\n",
      "[[ 12.  18. -30. -22.  -5.  63.  50.  28.  23. -11.   4.  53.]]\n",
      "Good months:\n",
      "[True, False, False, False, False, True, True, True, True, False, False, True]\n",
      "Bad months:\n",
      "[False, True, True, True, True, False, False, False, False, True, True, False]\n",
      "Best month:\n",
      "[False False False False False False False False False False False  True]\n",
      "Worst month:\n",
      "[ True False False False False False False False False False False False]\n"
     ]
    }
   ],
   "source": [
    "# Print Results\n",
    "print (\"Revenue:\") \n",
    "print (r1000)\n",
    "print (\"Expenses:\") \n",
    "print (e1000)\n",
    "print (\"Profit:\")\n",
    "print(p1000)\n",
    "print (\"Profit after tax:\")\n",
    "print (mp1000)\n",
    "print (\"Profit margin:\")\n",
    "print (pm)\n",
    "print (\"Good months:\")\n",
    "print (gm)\n",
    "print (\"Bad months:\")\n",
    "print (bm)\n",
    "print (\"Best month:\")\n",
    "print(bestm[0])\n",
    "print (\"Worst month:\")\n",
    "print (worstm[0])"
   ]
  },
  {
   "cell_type": "markdown",
   "metadata": {},
   "source": [
    "---"
   ]
  },
  {
   "cell_type": "markdown",
   "metadata": {},
   "source": [
    "# Exploratory Data Analyses (EDA)"
   ]
  },
  {
   "cell_type": "code",
   "execution_count": 135,
   "metadata": {},
   "outputs": [],
   "source": [
    "# Step 1: to build dataframe, Merge Months(m), Revenue(r), Expenses(e), Profit(p), MonthlyProfit(mp)\n",
    "#d = np.concatenate((m,r,e,p,mp))\n",
    "d = np.concatenate((mo,r1000,e1000,p1000,mp1000))"
   ]
  },
  {
   "cell_type": "code",
   "execution_count": 19,
   "metadata": {},
   "outputs": [],
   "source": [
    "#d = np.concatenate((mo,r1000,e1000,pd.to_numeric(p1000),pd.to_numeric(mp1000))"
   ]
  },
  {
   "cell_type": "code",
   "execution_count": 136,
   "metadata": {},
   "outputs": [],
   "source": [
    "# Step 2: to build dataframe, Create two-dimensional matrix for m,r,e,p,mp\n",
    "# 12 x 5 dimension, order=Fortran (Verticaly populated)\n",
    "re = np.reshape(d, (12,5), order='F')"
   ]
  },
  {
   "cell_type": "code",
   "execution_count": 137,
   "metadata": {},
   "outputs": [
    {
     "name": "stdout",
     "output_type": "stream",
     "text": [
      "/Users/rmph/Desktop/Projects - current/udemy/sds/Python/Section3\n"
     ]
    }
   ],
   "source": [
    "# Step 3: Construct the dataframe and dump to csv\n",
    "import os\n",
    "print(os.getcwd())\n",
    "fda = (pd.DataFrame(re, columns=['Months','Revenue', 'Expenses', 'ProfitAfterTax', 'MonthlyProfit']))\n",
    "#fda.to_csv('/Users/rmph/Desktop/Projects - current/udemy/sds/Python/Section3/fda.csv')"
   ]
  },
  {
   "cell_type": "code",
   "execution_count": 138,
   "metadata": {
    "scrolled": true
   },
   "outputs": [
    {
     "data": {
      "text/plain": [
       "Months            int64\n",
       "Revenue           int64\n",
       "Expenses          int64\n",
       "ProfitAfterTax    int64\n",
       "MonthlyProfit     int64\n",
       "dtype: object"
      ]
     },
     "execution_count": 138,
     "metadata": {},
     "output_type": "execute_result"
    }
   ],
   "source": [
    "# Step 4: load dataset\n",
    "fda = pd.read_csv('fda.csv')\n",
    "fda.dtypes"
   ]
  },
  {
   "cell_type": "code",
   "execution_count": 139,
   "metadata": {},
   "outputs": [
    {
     "data": {
      "text/html": [
       "<div>\n",
       "<style scoped>\n",
       "    .dataframe tbody tr th:only-of-type {\n",
       "        vertical-align: middle;\n",
       "    }\n",
       "\n",
       "    .dataframe tbody tr th {\n",
       "        vertical-align: top;\n",
       "    }\n",
       "\n",
       "    .dataframe thead th {\n",
       "        text-align: right;\n",
       "    }\n",
       "</style>\n",
       "<table border=\"1\" class=\"dataframe\">\n",
       "  <thead>\n",
       "    <tr style=\"text-align: right;\">\n",
       "      <th></th>\n",
       "      <th>Months</th>\n",
       "      <th>Revenue</th>\n",
       "      <th>Expenses</th>\n",
       "      <th>ProfitAfterTax</th>\n",
       "      <th>MonthlyProfit</th>\n",
       "    </tr>\n",
       "  </thead>\n",
       "  <tbody>\n",
       "    <tr>\n",
       "      <th>0</th>\n",
       "      <td>1</td>\n",
       "      <td>14574</td>\n",
       "      <td>12051</td>\n",
       "      <td>2522</td>\n",
       "      <td>1765</td>\n",
       "    </tr>\n",
       "    <tr>\n",
       "      <th>1</th>\n",
       "      <td>2</td>\n",
       "      <td>7606</td>\n",
       "      <td>5695</td>\n",
       "      <td>1911</td>\n",
       "      <td>1337</td>\n",
       "    </tr>\n",
       "    <tr>\n",
       "      <th>2</th>\n",
       "      <td>3</td>\n",
       "      <td>8611</td>\n",
       "      <td>12319</td>\n",
       "      <td>-3707</td>\n",
       "      <td>-2595</td>\n",
       "    </tr>\n",
       "    <tr>\n",
       "      <th>3</th>\n",
       "      <td>4</td>\n",
       "      <td>9175</td>\n",
       "      <td>12089</td>\n",
       "      <td>-2914</td>\n",
       "      <td>-2040</td>\n",
       "    </tr>\n",
       "    <tr>\n",
       "      <th>4</th>\n",
       "      <td>5</td>\n",
       "      <td>8058</td>\n",
       "      <td>8658</td>\n",
       "      <td>-599</td>\n",
       "      <td>-419</td>\n",
       "    </tr>\n",
       "    <tr>\n",
       "      <th>5</th>\n",
       "      <td>6</td>\n",
       "      <td>8105</td>\n",
       "      <td>840</td>\n",
       "      <td>7265</td>\n",
       "      <td>5085</td>\n",
       "    </tr>\n",
       "    <tr>\n",
       "      <th>6</th>\n",
       "      <td>7</td>\n",
       "      <td>11496</td>\n",
       "      <td>3285</td>\n",
       "      <td>8210</td>\n",
       "      <td>5747</td>\n",
       "    </tr>\n",
       "    <tr>\n",
       "      <th>7</th>\n",
       "      <td>8</td>\n",
       "      <td>9766</td>\n",
       "      <td>5821</td>\n",
       "      <td>3944</td>\n",
       "      <td>2761</td>\n",
       "    </tr>\n",
       "    <tr>\n",
       "      <th>8</th>\n",
       "      <td>9</td>\n",
       "      <td>10305</td>\n",
       "      <td>6976</td>\n",
       "      <td>3328</td>\n",
       "      <td>2329</td>\n",
       "    </tr>\n",
       "    <tr>\n",
       "      <th>9</th>\n",
       "      <td>10</td>\n",
       "      <td>14379</td>\n",
       "      <td>16618</td>\n",
       "      <td>-2238</td>\n",
       "      <td>-1567</td>\n",
       "    </tr>\n",
       "    <tr>\n",
       "      <th>10</th>\n",
       "      <td>11</td>\n",
       "      <td>10713</td>\n",
       "      <td>10054</td>\n",
       "      <td>659</td>\n",
       "      <td>461</td>\n",
       "    </tr>\n",
       "    <tr>\n",
       "      <th>11</th>\n",
       "      <td>12</td>\n",
       "      <td>15433</td>\n",
       "      <td>3803</td>\n",
       "      <td>11629</td>\n",
       "      <td>814</td>\n",
       "    </tr>\n",
       "  </tbody>\n",
       "</table>\n",
       "</div>"
      ],
      "text/plain": [
       "    Months  Revenue  Expenses  ProfitAfterTax  MonthlyProfit\n",
       "0        1    14574     12051            2522           1765\n",
       "1        2     7606      5695            1911           1337\n",
       "2        3     8611     12319           -3707          -2595\n",
       "3        4     9175     12089           -2914          -2040\n",
       "4        5     8058      8658            -599           -419\n",
       "5        6     8105       840            7265           5085\n",
       "6        7    11496      3285            8210           5747\n",
       "7        8     9766      5821            3944           2761\n",
       "8        9    10305      6976            3328           2329\n",
       "9       10    14379     16618           -2238          -1567\n",
       "10      11    10713     10054             659            461\n",
       "11      12    15433      3803           11629            814"
      ]
     },
     "execution_count": 139,
     "metadata": {},
     "output_type": "execute_result"
    }
   ],
   "source": [
    "# check dataframe\n",
    "fda"
   ]
  },
  {
   "cell_type": "code",
   "execution_count": 59,
   "metadata": {},
   "outputs": [
    {
     "data": {
      "text/html": [
       "<div>\n",
       "<style scoped>\n",
       "    .dataframe tbody tr th:only-of-type {\n",
       "        vertical-align: middle;\n",
       "    }\n",
       "\n",
       "    .dataframe tbody tr th {\n",
       "        vertical-align: top;\n",
       "    }\n",
       "\n",
       "    .dataframe thead th {\n",
       "        text-align: right;\n",
       "    }\n",
       "</style>\n",
       "<table border=\"1\" class=\"dataframe\">\n",
       "  <thead>\n",
       "    <tr style=\"text-align: right;\">\n",
       "      <th></th>\n",
       "      <th>Months</th>\n",
       "      <th>Revenue</th>\n",
       "      <th>Expenses</th>\n",
       "      <th>ProfitAfterTax</th>\n",
       "      <th>MonthlyProfit</th>\n",
       "    </tr>\n",
       "  </thead>\n",
       "  <tbody>\n",
       "    <tr>\n",
       "      <th>0</th>\n",
       "      <td>Jan</td>\n",
       "      <td>14574</td>\n",
       "      <td>12051</td>\n",
       "      <td>2522</td>\n",
       "      <td>1765</td>\n",
       "    </tr>\n",
       "    <tr>\n",
       "      <th>1</th>\n",
       "      <td>Feb</td>\n",
       "      <td>7606</td>\n",
       "      <td>5695</td>\n",
       "      <td>1911</td>\n",
       "      <td>1337</td>\n",
       "    </tr>\n",
       "    <tr>\n",
       "      <th>2</th>\n",
       "      <td>Mar</td>\n",
       "      <td>8611</td>\n",
       "      <td>12319</td>\n",
       "      <td>-3707</td>\n",
       "      <td>-2595</td>\n",
       "    </tr>\n",
       "    <tr>\n",
       "      <th>3</th>\n",
       "      <td>Apr</td>\n",
       "      <td>9175</td>\n",
       "      <td>12089</td>\n",
       "      <td>-2914</td>\n",
       "      <td>-2040</td>\n",
       "    </tr>\n",
       "    <tr>\n",
       "      <th>4</th>\n",
       "      <td>May</td>\n",
       "      <td>8058</td>\n",
       "      <td>8658</td>\n",
       "      <td>-599</td>\n",
       "      <td>-419</td>\n",
       "    </tr>\n",
       "    <tr>\n",
       "      <th>5</th>\n",
       "      <td>Jun</td>\n",
       "      <td>8105</td>\n",
       "      <td>840</td>\n",
       "      <td>7265</td>\n",
       "      <td>5085</td>\n",
       "    </tr>\n",
       "    <tr>\n",
       "      <th>6</th>\n",
       "      <td>Jul</td>\n",
       "      <td>11496</td>\n",
       "      <td>3285</td>\n",
       "      <td>8210</td>\n",
       "      <td>5747</td>\n",
       "    </tr>\n",
       "    <tr>\n",
       "      <th>7</th>\n",
       "      <td>Aug</td>\n",
       "      <td>9766</td>\n",
       "      <td>5821</td>\n",
       "      <td>3944</td>\n",
       "      <td>2761</td>\n",
       "    </tr>\n",
       "    <tr>\n",
       "      <th>8</th>\n",
       "      <td>Sep</td>\n",
       "      <td>10305</td>\n",
       "      <td>6976</td>\n",
       "      <td>3328</td>\n",
       "      <td>2329</td>\n",
       "    </tr>\n",
       "    <tr>\n",
       "      <th>9</th>\n",
       "      <td>Oct</td>\n",
       "      <td>14379</td>\n",
       "      <td>16618</td>\n",
       "      <td>-2238</td>\n",
       "      <td>-1567</td>\n",
       "    </tr>\n",
       "    <tr>\n",
       "      <th>10</th>\n",
       "      <td>Nov</td>\n",
       "      <td>10713</td>\n",
       "      <td>10054</td>\n",
       "      <td>659</td>\n",
       "      <td>461</td>\n",
       "    </tr>\n",
       "    <tr>\n",
       "      <th>11</th>\n",
       "      <td>Dec</td>\n",
       "      <td>15433</td>\n",
       "      <td>3803</td>\n",
       "      <td>11629</td>\n",
       "      <td>814</td>\n",
       "    </tr>\n",
       "  </tbody>\n",
       "</table>\n",
       "</div>"
      ],
      "text/plain": [
       "   Months  Revenue  Expenses  ProfitAfterTax  MonthlyProfit\n",
       "0     Jan    14574     12051            2522           1765\n",
       "1     Feb     7606      5695            1911           1337\n",
       "2     Mar     8611     12319           -3707          -2595\n",
       "3     Apr     9175     12089           -2914          -2040\n",
       "4     May     8058      8658            -599           -419\n",
       "5     Jun     8105       840            7265           5085\n",
       "6     Jul    11496      3285            8210           5747\n",
       "7     Aug     9766      5821            3944           2761\n",
       "8     Sep    10305      6976            3328           2329\n",
       "9     Oct    14379     16618           -2238          -1567\n",
       "10    Nov    10713     10054             659            461\n",
       "11    Dec    15433      3803           11629            814"
      ]
     },
     "execution_count": 59,
     "metadata": {},
     "output_type": "execute_result"
    }
   ],
   "source": [
    "#import calendar\n",
    "fda.Months = fda['Months'].apply(lambda x: calendar.month_abbr[x])\n",
    "fda"
   ]
  },
  {
   "cell_type": "code",
   "execution_count": 64,
   "metadata": {},
   "outputs": [],
   "source": [
    "# Financial Data Analysis \n",
    "import matplotlib.pyplot as plt\n",
    "import seaborn as sns\n",
    "%matplotlib inline\n",
    "plt.rcParams['figure.figsize']=8,4\n",
    "import warnings\n",
    "warnings.filterwarnings('ignore')"
   ]
  },
  {
   "cell_type": "code",
   "execution_count": 103,
   "metadata": {},
   "outputs": [
    {
     "data": {
      "text/plain": [
       "<seaborn.axisgrid.PairGrid at 0x1a29499d68>"
      ]
     },
     "execution_count": 103,
     "metadata": {},
     "output_type": "execute_result"
    },
    {
     "data": {
      "image/png": "[encoded data removed]",
      "text/plain": [
       "<Figure size 948.75x900 with 30 Axes>"
      ]
     },
     "metadata": {},
     "output_type": "display_data"
    }
   ],
   "source": [
    "# EDA (Exploratory Data Analysis)\n",
    "# Visualise Distributions for all the Variables \n",
    "# MonthlyProfit is Gaussian Distribution\n",
    "sns.pairplot(fda, hue='Months')"
   ]
  },
  {
   "cell_type": "code",
   "execution_count": 117,
   "metadata": {
    "scrolled": false
   },
   "outputs": [
    {
     "data": {
      "image/png": "[encoded data removed]",
      "text/plain": [
       "<Figure size 576x288 with 1 Axes>"
      ]
     },
     "metadata": {},
     "output_type": "display_data"
    }
   ],
   "source": [
    "# Normal distribution for Monthly Profit\n",
    "mp = sns.distplot(fda[\"MonthlyProfit\"], bins=12)"
   ]
  },
  {
   "cell_type": "code",
   "execution_count": 116,
   "metadata": {},
   "outputs": [
    {
     "data": {
      "text/plain": [
       "<matplotlib.axes._subplots.AxesSubplot at 0x1a2bee9b38>"
      ]
     },
     "execution_count": 116,
     "metadata": {},
     "output_type": "execute_result"
    },
    {
     "data": {
      "image/png": "[encoded data removed]",
      "text/plain": [
       "<Figure size 576x288 with 1 Axes>"
      ]
     },
     "metadata": {},
     "output_type": "display_data"
    }
   ],
   "source": [
    "# Profit After Tax is skewed to the left\n",
    "sns.distplot(fda[\"ProfitAfterTax\"], bins=12)"
   ]
  },
  {
   "cell_type": "code",
   "execution_count": 108,
   "metadata": {},
   "outputs": [
    {
     "data": {
      "image/png": "[encoded data removed]",
      "text/plain": [
       "<Figure size 576x288 with 1 Axes>"
      ]
     },
     "metadata": {},
     "output_type": "display_data"
    }
   ],
   "source": [
    "# Highest Profit After Tax achieved is on December at 11629 which is the Fiscal Year End\n",
    "# While the March has the highest deferred profit at -3707\n",
    "# lowest earnings were recorded for November and May respectively\n",
    "vis5 = sns.barplot(data=fda, x='ProfitAfterTax', y='Months', orient='h')"
   ]
  },
  {
   "cell_type": "code",
   "execution_count": null,
   "metadata": {},
   "outputs": [],
   "source": []
  }
 ],
 "metadata": {
  "kernelspec": {
   "display_name": "Python 3",
   "language": "python",
   "name": "python3"
  },
  "language_info": {
   "codemirror_mode": {
    "name": "ipython",
    "version": 3
   },
   "file_extension": ".py",
   "mimetype": "text/x-python",
   "name": "python",
   "nbconvert_exporter": "python",
   "pygments_lexer": "ipython3",
   "version": "3.6.5"
  }
 },
 "nbformat": 4,
 "nbformat_minor": 1
}
